{
 "cells": [
  {
   "cell_type": "code",
   "execution_count": 1,
   "metadata": {
    "collapsed": true
   },
   "outputs": [],
   "source": [
    "import pandas as pd\n",
    "import numpy as np\n",
    "from IPython.display import display \n",
    "from sklearn.utils import shuffle\n",
    "from pandas.tools.plotting import scatter_matrix\n",
    "import matplotlib.pyplot as plt\n",
    "%matplotlib inline"
   ]
  },
  {
   "cell_type": "code",
   "execution_count": 3,
   "metadata": {
    "collapsed": true
   },
   "outputs": [],
   "source": [
    "path='C:/Users/Ankit/Downloads/wine.data'\n",
    "names=['class','Alcohol','Malic Acid','Ash','Alcalinity of ash','Magnesium','Total Phenols','Flavanoids','NonFlavanoid Phenols','Proanthyocyanins','color intensity','Hue','OD280/OD315','Proline']\n",
    "dataset=pd.read_csv(path,names=names)"
   ]
  },
  {
   "cell_type": "code",
   "execution_count": 4,
   "metadata": {
    "collapsed": false
   },
   "outputs": [
    {
     "data": {
      "text/html": [
       "<div>\n",
       "<table border=\"1\" class=\"dataframe\">\n",
       "  <thead>\n",
       "    <tr style=\"text-align: right;\">\n",
       "      <th></th>\n",
       "      <th>class</th>\n",
       "      <th>Alcohol</th>\n",
       "      <th>Malic Acid</th>\n",
       "      <th>Ash</th>\n",
       "      <th>Alcalinity of ash</th>\n",
       "      <th>Magnesium</th>\n",
       "      <th>Total Phenols</th>\n",
       "      <th>Flavanoids</th>\n",
       "      <th>NonFlavanoid Phenols</th>\n",
       "      <th>Proanthyocyanins</th>\n",
       "      <th>color intensity</th>\n",
       "      <th>Hue</th>\n",
       "      <th>OD280/OD315</th>\n",
       "      <th>Proline</th>\n",
       "    </tr>\n",
       "  </thead>\n",
       "  <tbody>\n",
       "    <tr>\n",
       "      <th>0</th>\n",
       "      <td>1</td>\n",
       "      <td>14.23</td>\n",
       "      <td>1.71</td>\n",
       "      <td>2.43</td>\n",
       "      <td>15.6</td>\n",
       "      <td>127</td>\n",
       "      <td>2.80</td>\n",
       "      <td>3.06</td>\n",
       "      <td>0.28</td>\n",
       "      <td>2.29</td>\n",
       "      <td>5.64</td>\n",
       "      <td>1.04</td>\n",
       "      <td>3.92</td>\n",
       "      <td>1065</td>\n",
       "    </tr>\n",
       "    <tr>\n",
       "      <th>1</th>\n",
       "      <td>1</td>\n",
       "      <td>13.20</td>\n",
       "      <td>1.78</td>\n",
       "      <td>2.14</td>\n",
       "      <td>11.2</td>\n",
       "      <td>100</td>\n",
       "      <td>2.65</td>\n",
       "      <td>2.76</td>\n",
       "      <td>0.26</td>\n",
       "      <td>1.28</td>\n",
       "      <td>4.38</td>\n",
       "      <td>1.05</td>\n",
       "      <td>3.40</td>\n",
       "      <td>1050</td>\n",
       "    </tr>\n",
       "    <tr>\n",
       "      <th>2</th>\n",
       "      <td>1</td>\n",
       "      <td>13.16</td>\n",
       "      <td>2.36</td>\n",
       "      <td>2.67</td>\n",
       "      <td>18.6</td>\n",
       "      <td>101</td>\n",
       "      <td>2.80</td>\n",
       "      <td>3.24</td>\n",
       "      <td>0.30</td>\n",
       "      <td>2.81</td>\n",
       "      <td>5.68</td>\n",
       "      <td>1.03</td>\n",
       "      <td>3.17</td>\n",
       "      <td>1185</td>\n",
       "    </tr>\n",
       "    <tr>\n",
       "      <th>3</th>\n",
       "      <td>1</td>\n",
       "      <td>14.37</td>\n",
       "      <td>1.95</td>\n",
       "      <td>2.50</td>\n",
       "      <td>16.8</td>\n",
       "      <td>113</td>\n",
       "      <td>3.85</td>\n",
       "      <td>3.49</td>\n",
       "      <td>0.24</td>\n",
       "      <td>2.18</td>\n",
       "      <td>7.80</td>\n",
       "      <td>0.86</td>\n",
       "      <td>3.45</td>\n",
       "      <td>1480</td>\n",
       "    </tr>\n",
       "    <tr>\n",
       "      <th>4</th>\n",
       "      <td>1</td>\n",
       "      <td>13.24</td>\n",
       "      <td>2.59</td>\n",
       "      <td>2.87</td>\n",
       "      <td>21.0</td>\n",
       "      <td>118</td>\n",
       "      <td>2.80</td>\n",
       "      <td>2.69</td>\n",
       "      <td>0.39</td>\n",
       "      <td>1.82</td>\n",
       "      <td>4.32</td>\n",
       "      <td>1.04</td>\n",
       "      <td>2.93</td>\n",
       "      <td>735</td>\n",
       "    </tr>\n",
       "  </tbody>\n",
       "</table>\n",
       "</div>"
      ],
      "text/plain": [
       "   class  Alcohol  Malic Acid   Ash  Alcalinity of ash  Magnesium  \\\n",
       "0      1    14.23        1.71  2.43               15.6        127   \n",
       "1      1    13.20        1.78  2.14               11.2        100   \n",
       "2      1    13.16        2.36  2.67               18.6        101   \n",
       "3      1    14.37        1.95  2.50               16.8        113   \n",
       "4      1    13.24        2.59  2.87               21.0        118   \n",
       "\n",
       "   Total Phenols  Flavanoids  NonFlavanoid Phenols  Proanthyocyanins  \\\n",
       "0           2.80        3.06                  0.28              2.29   \n",
       "1           2.65        2.76                  0.26              1.28   \n",
       "2           2.80        3.24                  0.30              2.81   \n",
       "3           3.85        3.49                  0.24              2.18   \n",
       "4           2.80        2.69                  0.39              1.82   \n",
       "\n",
       "   color intensity   Hue  OD280/OD315  Proline  \n",
       "0             5.64  1.04         3.92     1065  \n",
       "1             4.38  1.05         3.40     1050  \n",
       "2             5.68  1.03         3.17     1185  \n",
       "3             7.80  0.86         3.45     1480  \n",
       "4             4.32  1.04         2.93      735  "
      ]
     },
     "metadata": {},
     "output_type": "display_data"
    }
   ],
   "source": [
    "display(dataset.head())"
   ]
  },
  {
   "cell_type": "code",
   "execution_count": 5,
   "metadata": {
    "collapsed": false
   },
   "outputs": [
    {
     "data": {
      "text/plain": [
       "(178, 14)"
      ]
     },
     "metadata": {},
     "output_type": "display_data"
    }
   ],
   "source": [
    "display(dataset.shape)"
   ]
  },
  {
   "cell_type": "code",
   "execution_count": 6,
   "metadata": {
    "collapsed": false
   },
   "outputs": [
    {
     "data": {
      "text/html": [
       "<div>\n",
       "<table border=\"1\" class=\"dataframe\">\n",
       "  <thead>\n",
       "    <tr style=\"text-align: right;\">\n",
       "      <th></th>\n",
       "      <th>class</th>\n",
       "      <th>Alcohol</th>\n",
       "      <th>Malic Acid</th>\n",
       "      <th>Ash</th>\n",
       "      <th>Alcalinity of ash</th>\n",
       "      <th>Magnesium</th>\n",
       "      <th>Total Phenols</th>\n",
       "      <th>Flavanoids</th>\n",
       "      <th>NonFlavanoid Phenols</th>\n",
       "      <th>Proanthyocyanins</th>\n",
       "      <th>color intensity</th>\n",
       "      <th>Hue</th>\n",
       "      <th>OD280/OD315</th>\n",
       "      <th>Proline</th>\n",
       "    </tr>\n",
       "  </thead>\n",
       "  <tbody>\n",
       "    <tr>\n",
       "      <th>count</th>\n",
       "      <td>178.000000</td>\n",
       "      <td>178.000000</td>\n",
       "      <td>178.000000</td>\n",
       "      <td>178.000000</td>\n",
       "      <td>178.000000</td>\n",
       "      <td>178.000000</td>\n",
       "      <td>178.000000</td>\n",
       "      <td>178.000000</td>\n",
       "      <td>178.000000</td>\n",
       "      <td>178.000000</td>\n",
       "      <td>178.000000</td>\n",
       "      <td>178.000000</td>\n",
       "      <td>178.000000</td>\n",
       "      <td>178.000000</td>\n",
       "    </tr>\n",
       "    <tr>\n",
       "      <th>mean</th>\n",
       "      <td>1.938202</td>\n",
       "      <td>13.000618</td>\n",
       "      <td>2.336348</td>\n",
       "      <td>2.366517</td>\n",
       "      <td>19.494944</td>\n",
       "      <td>99.741573</td>\n",
       "      <td>2.295112</td>\n",
       "      <td>2.029270</td>\n",
       "      <td>0.361854</td>\n",
       "      <td>1.590899</td>\n",
       "      <td>5.058090</td>\n",
       "      <td>0.957449</td>\n",
       "      <td>2.611685</td>\n",
       "      <td>746.893258</td>\n",
       "    </tr>\n",
       "    <tr>\n",
       "      <th>std</th>\n",
       "      <td>0.775035</td>\n",
       "      <td>0.811827</td>\n",
       "      <td>1.117146</td>\n",
       "      <td>0.274344</td>\n",
       "      <td>3.339564</td>\n",
       "      <td>14.282484</td>\n",
       "      <td>0.625851</td>\n",
       "      <td>0.998859</td>\n",
       "      <td>0.124453</td>\n",
       "      <td>0.572359</td>\n",
       "      <td>2.318286</td>\n",
       "      <td>0.228572</td>\n",
       "      <td>0.709990</td>\n",
       "      <td>314.907474</td>\n",
       "    </tr>\n",
       "    <tr>\n",
       "      <th>min</th>\n",
       "      <td>1.000000</td>\n",
       "      <td>11.030000</td>\n",
       "      <td>0.740000</td>\n",
       "      <td>1.360000</td>\n",
       "      <td>10.600000</td>\n",
       "      <td>70.000000</td>\n",
       "      <td>0.980000</td>\n",
       "      <td>0.340000</td>\n",
       "      <td>0.130000</td>\n",
       "      <td>0.410000</td>\n",
       "      <td>1.280000</td>\n",
       "      <td>0.480000</td>\n",
       "      <td>1.270000</td>\n",
       "      <td>278.000000</td>\n",
       "    </tr>\n",
       "    <tr>\n",
       "      <th>25%</th>\n",
       "      <td>1.000000</td>\n",
       "      <td>12.362500</td>\n",
       "      <td>1.602500</td>\n",
       "      <td>2.210000</td>\n",
       "      <td>17.200000</td>\n",
       "      <td>88.000000</td>\n",
       "      <td>1.742500</td>\n",
       "      <td>1.205000</td>\n",
       "      <td>0.270000</td>\n",
       "      <td>1.250000</td>\n",
       "      <td>3.220000</td>\n",
       "      <td>0.782500</td>\n",
       "      <td>1.937500</td>\n",
       "      <td>500.500000</td>\n",
       "    </tr>\n",
       "    <tr>\n",
       "      <th>50%</th>\n",
       "      <td>2.000000</td>\n",
       "      <td>13.050000</td>\n",
       "      <td>1.865000</td>\n",
       "      <td>2.360000</td>\n",
       "      <td>19.500000</td>\n",
       "      <td>98.000000</td>\n",
       "      <td>2.355000</td>\n",
       "      <td>2.135000</td>\n",
       "      <td>0.340000</td>\n",
       "      <td>1.555000</td>\n",
       "      <td>4.690000</td>\n",
       "      <td>0.965000</td>\n",
       "      <td>2.780000</td>\n",
       "      <td>673.500000</td>\n",
       "    </tr>\n",
       "    <tr>\n",
       "      <th>75%</th>\n",
       "      <td>3.000000</td>\n",
       "      <td>13.677500</td>\n",
       "      <td>3.082500</td>\n",
       "      <td>2.557500</td>\n",
       "      <td>21.500000</td>\n",
       "      <td>107.000000</td>\n",
       "      <td>2.800000</td>\n",
       "      <td>2.875000</td>\n",
       "      <td>0.437500</td>\n",
       "      <td>1.950000</td>\n",
       "      <td>6.200000</td>\n",
       "      <td>1.120000</td>\n",
       "      <td>3.170000</td>\n",
       "      <td>985.000000</td>\n",
       "    </tr>\n",
       "    <tr>\n",
       "      <th>max</th>\n",
       "      <td>3.000000</td>\n",
       "      <td>14.830000</td>\n",
       "      <td>5.800000</td>\n",
       "      <td>3.230000</td>\n",
       "      <td>30.000000</td>\n",
       "      <td>162.000000</td>\n",
       "      <td>3.880000</td>\n",
       "      <td>5.080000</td>\n",
       "      <td>0.660000</td>\n",
       "      <td>3.580000</td>\n",
       "      <td>13.000000</td>\n",
       "      <td>1.710000</td>\n",
       "      <td>4.000000</td>\n",
       "      <td>1680.000000</td>\n",
       "    </tr>\n",
       "  </tbody>\n",
       "</table>\n",
       "</div>"
      ],
      "text/plain": [
       "            class     Alcohol  Malic Acid         Ash  Alcalinity of ash  \\\n",
       "count  178.000000  178.000000  178.000000  178.000000         178.000000   \n",
       "mean     1.938202   13.000618    2.336348    2.366517          19.494944   \n",
       "std      0.775035    0.811827    1.117146    0.274344           3.339564   \n",
       "min      1.000000   11.030000    0.740000    1.360000          10.600000   \n",
       "25%      1.000000   12.362500    1.602500    2.210000          17.200000   \n",
       "50%      2.000000   13.050000    1.865000    2.360000          19.500000   \n",
       "75%      3.000000   13.677500    3.082500    2.557500          21.500000   \n",
       "max      3.000000   14.830000    5.800000    3.230000          30.000000   \n",
       "\n",
       "        Magnesium  Total Phenols  Flavanoids  NonFlavanoid Phenols  \\\n",
       "count  178.000000     178.000000  178.000000            178.000000   \n",
       "mean    99.741573       2.295112    2.029270              0.361854   \n",
       "std     14.282484       0.625851    0.998859              0.124453   \n",
       "min     70.000000       0.980000    0.340000              0.130000   \n",
       "25%     88.000000       1.742500    1.205000              0.270000   \n",
       "50%     98.000000       2.355000    2.135000              0.340000   \n",
       "75%    107.000000       2.800000    2.875000              0.437500   \n",
       "max    162.000000       3.880000    5.080000              0.660000   \n",
       "\n",
       "       Proanthyocyanins  color intensity         Hue  OD280/OD315      Proline  \n",
       "count        178.000000       178.000000  178.000000   178.000000   178.000000  \n",
       "mean           1.590899         5.058090    0.957449     2.611685   746.893258  \n",
       "std            0.572359         2.318286    0.228572     0.709990   314.907474  \n",
       "min            0.410000         1.280000    0.480000     1.270000   278.000000  \n",
       "25%            1.250000         3.220000    0.782500     1.937500   500.500000  \n",
       "50%            1.555000         4.690000    0.965000     2.780000   673.500000  \n",
       "75%            1.950000         6.200000    1.120000     3.170000   985.000000  \n",
       "max            3.580000        13.000000    1.710000     4.000000  1680.000000  "
      ]
     },
     "metadata": {},
     "output_type": "display_data"
    }
   ],
   "source": [
    "display(dataset.describe())"
   ]
  },
  {
   "cell_type": "code",
   "execution_count": 7,
   "metadata": {
    "collapsed": false
   },
   "outputs": [
    {
     "name": "stdout",
     "output_type": "stream",
     "text": [
      "class\n",
      "1    59\n",
      "2    71\n",
      "3    48\n",
      "dtype: int64\n"
     ]
    }
   ],
   "source": [
    "print(dataset.groupby('class').size())"
   ]
  },
  {
   "cell_type": "code",
   "execution_count": 8,
   "metadata": {
    "collapsed": false
   },
   "outputs": [],
   "source": [
    "names1=['Alcohol', 'Malic Acid', 'Ash', 'Alcalinity of ash', 'Magnesium', 'Total Phenols', 'Flavanoids', 'NonFlavanoid Phenols', 'Proanthyocyanins', 'color intensity', 'Hue', 'OD280/OD315', 'Proline']\n",
    "#nested for loop to normalize the values\n",
    "for name in names1:\n",
    "    mean=dataset[name].mean()\n",
    "    standard_dev=dataset[name].std()\n",
    "    for it in range(0,178):\n",
    "        dataset.loc[it,name]=(dataset.loc[it,name]-mean)/standard_dev"
   ]
  },
  {
   "cell_type": "code",
   "execution_count": 9,
   "metadata": {
    "collapsed": false
   },
   "outputs": [
    {
     "data": {
      "text/html": [
       "<div>\n",
       "<table border=\"1\" class=\"dataframe\">\n",
       "  <thead>\n",
       "    <tr style=\"text-align: right;\">\n",
       "      <th></th>\n",
       "      <th>class</th>\n",
       "      <th>Alcohol</th>\n",
       "      <th>Malic Acid</th>\n",
       "      <th>Ash</th>\n",
       "      <th>Alcalinity of ash</th>\n",
       "      <th>Magnesium</th>\n",
       "      <th>Total Phenols</th>\n",
       "      <th>Flavanoids</th>\n",
       "      <th>NonFlavanoid Phenols</th>\n",
       "      <th>Proanthyocyanins</th>\n",
       "      <th>color intensity</th>\n",
       "      <th>Hue</th>\n",
       "      <th>OD280/OD315</th>\n",
       "      <th>Proline</th>\n",
       "    </tr>\n",
       "  </thead>\n",
       "  <tbody>\n",
       "    <tr>\n",
       "      <th>0</th>\n",
       "      <td>1</td>\n",
       "      <td>1.514341</td>\n",
       "      <td>-0.560668</td>\n",
       "      <td>0.231400</td>\n",
       "      <td>-1.166303</td>\n",
       "      <td>1.908522</td>\n",
       "      <td>0.806722</td>\n",
       "      <td>1.031908</td>\n",
       "      <td>-0.657708</td>\n",
       "      <td>1.221438</td>\n",
       "      <td>0.251009</td>\n",
       "      <td>0.361158</td>\n",
       "      <td>1.842721</td>\n",
       "      <td>1.010159</td>\n",
       "    </tr>\n",
       "    <tr>\n",
       "      <th>1</th>\n",
       "      <td>1</td>\n",
       "      <td>0.245597</td>\n",
       "      <td>-0.498009</td>\n",
       "      <td>-0.825667</td>\n",
       "      <td>-2.483841</td>\n",
       "      <td>0.018094</td>\n",
       "      <td>0.567048</td>\n",
       "      <td>0.731565</td>\n",
       "      <td>-0.818411</td>\n",
       "      <td>-0.543189</td>\n",
       "      <td>-0.292496</td>\n",
       "      <td>0.404908</td>\n",
       "      <td>1.110317</td>\n",
       "      <td>0.962526</td>\n",
       "    </tr>\n",
       "    <tr>\n",
       "      <th>2</th>\n",
       "      <td>1</td>\n",
       "      <td>0.196325</td>\n",
       "      <td>0.021172</td>\n",
       "      <td>1.106214</td>\n",
       "      <td>-0.267982</td>\n",
       "      <td>0.088110</td>\n",
       "      <td>0.806722</td>\n",
       "      <td>1.212114</td>\n",
       "      <td>-0.497005</td>\n",
       "      <td>2.129959</td>\n",
       "      <td>0.268263</td>\n",
       "      <td>0.317409</td>\n",
       "      <td>0.786369</td>\n",
       "      <td>1.391224</td>\n",
       "    </tr>\n",
       "    <tr>\n",
       "      <th>3</th>\n",
       "      <td>1</td>\n",
       "      <td>1.686791</td>\n",
       "      <td>-0.345835</td>\n",
       "      <td>0.486554</td>\n",
       "      <td>-0.806975</td>\n",
       "      <td>0.928300</td>\n",
       "      <td>2.484437</td>\n",
       "      <td>1.462399</td>\n",
       "      <td>-0.979113</td>\n",
       "      <td>1.029251</td>\n",
       "      <td>1.182732</td>\n",
       "      <td>-0.426341</td>\n",
       "      <td>1.180741</td>\n",
       "      <td>2.328007</td>\n",
       "    </tr>\n",
       "    <tr>\n",
       "      <th>4</th>\n",
       "      <td>1</td>\n",
       "      <td>0.294868</td>\n",
       "      <td>0.227053</td>\n",
       "      <td>1.835226</td>\n",
       "      <td>0.450674</td>\n",
       "      <td>1.278379</td>\n",
       "      <td>0.806722</td>\n",
       "      <td>0.661485</td>\n",
       "      <td>0.226158</td>\n",
       "      <td>0.400275</td>\n",
       "      <td>-0.318377</td>\n",
       "      <td>0.361158</td>\n",
       "      <td>0.448336</td>\n",
       "      <td>-0.037767</td>\n",
       "    </tr>\n",
       "  </tbody>\n",
       "</table>\n",
       "</div>"
      ],
      "text/plain": [
       "   class   Alcohol  Malic Acid       Ash  Alcalinity of ash  Magnesium  \\\n",
       "0      1  1.514341   -0.560668  0.231400          -1.166303   1.908522   \n",
       "1      1  0.245597   -0.498009 -0.825667          -2.483841   0.018094   \n",
       "2      1  0.196325    0.021172  1.106214          -0.267982   0.088110   \n",
       "3      1  1.686791   -0.345835  0.486554          -0.806975   0.928300   \n",
       "4      1  0.294868    0.227053  1.835226           0.450674   1.278379   \n",
       "\n",
       "   Total Phenols  Flavanoids  NonFlavanoid Phenols  Proanthyocyanins  \\\n",
       "0       0.806722    1.031908             -0.657708          1.221438   \n",
       "1       0.567048    0.731565             -0.818411         -0.543189   \n",
       "2       0.806722    1.212114             -0.497005          2.129959   \n",
       "3       2.484437    1.462399             -0.979113          1.029251   \n",
       "4       0.806722    0.661485              0.226158          0.400275   \n",
       "\n",
       "   color intensity       Hue  OD280/OD315   Proline  \n",
       "0         0.251009  0.361158     1.842721  1.010159  \n",
       "1        -0.292496  0.404908     1.110317  0.962526  \n",
       "2         0.268263  0.317409     0.786369  1.391224  \n",
       "3         1.182732 -0.426341     1.180741  2.328007  \n",
       "4        -0.318377  0.361158     0.448336 -0.037767  "
      ]
     },
     "metadata": {},
     "output_type": "display_data"
    }
   ],
   "source": [
    "display(dataset.head())"
   ]
  },
  {
   "cell_type": "code",
   "execution_count": 10,
   "metadata": {
    "collapsed": true
   },
   "outputs": [],
   "source": [
    "dataset.insert(1,'Bias',1)"
   ]
  },
  {
   "cell_type": "code",
   "execution_count": 11,
   "metadata": {
    "collapsed": false
   },
   "outputs": [
    {
     "data": {
      "text/html": [
       "<div>\n",
       "<table border=\"1\" class=\"dataframe\">\n",
       "  <thead>\n",
       "    <tr style=\"text-align: right;\">\n",
       "      <th></th>\n",
       "      <th>class</th>\n",
       "      <th>Bias</th>\n",
       "      <th>Alcohol</th>\n",
       "      <th>Malic Acid</th>\n",
       "      <th>Ash</th>\n",
       "      <th>Alcalinity of ash</th>\n",
       "      <th>Magnesium</th>\n",
       "      <th>Total Phenols</th>\n",
       "      <th>Flavanoids</th>\n",
       "      <th>NonFlavanoid Phenols</th>\n",
       "      <th>Proanthyocyanins</th>\n",
       "      <th>color intensity</th>\n",
       "      <th>Hue</th>\n",
       "      <th>OD280/OD315</th>\n",
       "      <th>Proline</th>\n",
       "    </tr>\n",
       "  </thead>\n",
       "  <tbody>\n",
       "    <tr>\n",
       "      <th>0</th>\n",
       "      <td>3</td>\n",
       "      <td>1</td>\n",
       "      <td>0.393412</td>\n",
       "      <td>0.808893</td>\n",
       "      <td>0.049147</td>\n",
       "      <td>0.600395</td>\n",
       "      <td>-0.542033</td>\n",
       "      <td>-0.583385</td>\n",
       "      <td>-1.270720</td>\n",
       "      <td>0.708266</td>\n",
       "      <td>-0.595603</td>\n",
       "      <td>1.450171</td>\n",
       "      <td>-1.782590</td>\n",
       "      <td>-1.396759</td>\n",
       "      <td>-0.307688</td>\n",
       "    </tr>\n",
       "    <tr>\n",
       "      <th>1</th>\n",
       "      <td>1</td>\n",
       "      <td>1</td>\n",
       "      <td>0.344140</td>\n",
       "      <td>-0.623328</td>\n",
       "      <td>1.725874</td>\n",
       "      <td>-1.196247</td>\n",
       "      <td>0.718252</td>\n",
       "      <td>0.487157</td>\n",
       "      <td>0.651474</td>\n",
       "      <td>-0.175599</td>\n",
       "      <td>-0.403416</td>\n",
       "      <td>-0.197599</td>\n",
       "      <td>0.579908</td>\n",
       "      <td>0.237066</td>\n",
       "      <td>0.422685</td>\n",
       "    </tr>\n",
       "    <tr>\n",
       "      <th>2</th>\n",
       "      <td>1</td>\n",
       "      <td>1</td>\n",
       "      <td>-0.086987</td>\n",
       "      <td>1.310170</td>\n",
       "      <td>1.033313</td>\n",
       "      <td>-0.267982</td>\n",
       "      <td>0.158126</td>\n",
       "      <td>0.183570</td>\n",
       "      <td>0.381165</td>\n",
       "      <td>-0.898762</td>\n",
       "      <td>0.679820</td>\n",
       "      <td>-0.240734</td>\n",
       "      <td>0.317409</td>\n",
       "      <td>1.279334</td>\n",
       "      <td>0.073376</td>\n",
       "    </tr>\n",
       "    <tr>\n",
       "      <th>3</th>\n",
       "      <td>1</td>\n",
       "      <td>1</td>\n",
       "      <td>1.304936</td>\n",
       "      <td>-0.166807</td>\n",
       "      <td>0.887510</td>\n",
       "      <td>-0.567423</td>\n",
       "      <td>1.488427</td>\n",
       "      <td>0.487157</td>\n",
       "      <td>0.481280</td>\n",
       "      <td>-0.416654</td>\n",
       "      <td>-0.595603</td>\n",
       "      <td>-0.003490</td>\n",
       "      <td>0.448658</td>\n",
       "      <td>1.363842</td>\n",
       "      <td>1.740533</td>\n",
       "    </tr>\n",
       "    <tr>\n",
       "      <th>4</th>\n",
       "      <td>3</td>\n",
       "      <td>1</td>\n",
       "      <td>0.590498</td>\n",
       "      <td>-0.596474</td>\n",
       "      <td>0.996862</td>\n",
       "      <td>0.899835</td>\n",
       "      <td>-0.752080</td>\n",
       "      <td>0.487157</td>\n",
       "      <td>-0.930331</td>\n",
       "      <td>1.270726</td>\n",
       "      <td>1.221438</td>\n",
       "      <td>2.886577</td>\n",
       "      <td>-1.695090</td>\n",
       "      <td>-1.171404</td>\n",
       "      <td>-0.402954</td>\n",
       "    </tr>\n",
       "  </tbody>\n",
       "</table>\n",
       "</div>"
      ],
      "text/plain": [
       "   class  Bias   Alcohol  Malic Acid       Ash  Alcalinity of ash  Magnesium  \\\n",
       "0      3     1  0.393412    0.808893  0.049147           0.600395  -0.542033   \n",
       "1      1     1  0.344140   -0.623328  1.725874          -1.196247   0.718252   \n",
       "2      1     1 -0.086987    1.310170  1.033313          -0.267982   0.158126   \n",
       "3      1     1  1.304936   -0.166807  0.887510          -0.567423   1.488427   \n",
       "4      3     1  0.590498   -0.596474  0.996862           0.899835  -0.752080   \n",
       "\n",
       "   Total Phenols  Flavanoids  NonFlavanoid Phenols  Proanthyocyanins  \\\n",
       "0      -0.583385   -1.270720              0.708266         -0.595603   \n",
       "1       0.487157    0.651474             -0.175599         -0.403416   \n",
       "2       0.183570    0.381165             -0.898762          0.679820   \n",
       "3       0.487157    0.481280             -0.416654         -0.595603   \n",
       "4       0.487157   -0.930331              1.270726          1.221438   \n",
       "\n",
       "   color intensity       Hue  OD280/OD315   Proline  \n",
       "0         1.450171 -1.782590    -1.396759 -0.307688  \n",
       "1        -0.197599  0.579908     0.237066  0.422685  \n",
       "2        -0.240734  0.317409     1.279334  0.073376  \n",
       "3        -0.003490  0.448658     1.363842  1.740533  \n",
       "4         2.886577 -1.695090    -1.171404 -0.402954  "
      ]
     },
     "metadata": {},
     "output_type": "display_data"
    }
   ],
   "source": [
    "dataset=shuffle(dataset)\n",
    "dataset=dataset.reset_index()\n",
    "del dataset['index']\n",
    "display(dataset.head())"
   ]
  },
  {
   "cell_type": "code",
   "execution_count": 12,
   "metadata": {
    "collapsed": false
   },
   "outputs": [],
   "source": [
    "X_train=dataset.iloc[:140,1:]\n",
    "Y_train=dataset.iloc[:140,0:1]\n",
    "X_test=dataset.iloc[140:178,1:]\n",
    "Y_test=dataset.iloc[140:178,0:1]\n",
    "train_shape=Y_train.shape\n",
    "test_shape=Y_test.shape\n",
    "Y_train1=np.zeros(train_shape)\n",
    "Y_train2=np.zeros(train_shape)\n",
    "Y_train3=np.zeros(train_shape)\n",
    "Y_test1=np.zeros(test_shape)\n",
    "Y_test2=np.zeros(test_shape)\n",
    "Y_test3=np.zeros(test_shape)"
   ]
  },
  {
   "cell_type": "code",
   "execution_count": 13,
   "metadata": {
    "collapsed": false
   },
   "outputs": [],
   "source": [
    "for i in range(0,Y_train.shape[0]):\n",
    "    if Y_train.iloc[i,0]==1:\n",
    "        Y_train1[i][0]=1\n",
    "        Y_train2[i][0]=0\n",
    "        Y_train3[i][0]=0\n",
    "    if Y_train.iloc[i,0]==2:\n",
    "        Y_train1[i][0]=0\n",
    "        Y_train2[i][0]=1\n",
    "        Y_train3[i][0]=0\n",
    "    else:\n",
    "        Y_train1[i][0]=0\n",
    "        Y_train2[i][0]=0\n",
    "        Y_train3[i][0]=1"
   ]
  },
  {
   "cell_type": "code",
   "execution_count": 14,
   "metadata": {
    "collapsed": false
   },
   "outputs": [],
   "source": [
    "for i in range(0,Y_test.shape[0]):\n",
    "    if Y_test.iloc[i,0]==1:\n",
    "        Y_test1[i][0]=1\n",
    "        Y_test2[i][0]=0\n",
    "        Y_test3[i][0]=0\n",
    "    if Y_test.iloc[i,0]==2:\n",
    "        Y_test1[i][0]=0\n",
    "        Y_test2[i][0]=1\n",
    "        Y_test3[i][0]=0\n",
    "    else:\n",
    "        Y_test1[i][0]=0\n",
    "        Y_test2[i][0]=0\n",
    "        Y_test3[i][0]=1"
   ]
  },
  {
   "cell_type": "code",
   "execution_count": 15,
   "metadata": {
    "collapsed": false
   },
   "outputs": [
    {
     "data": {
      "text/plain": [
       "(140, 14)"
      ]
     },
     "execution_count": 15,
     "metadata": {},
     "output_type": "execute_result"
    }
   ],
   "source": [
    "X_train.shape"
   ]
  },
  {
   "cell_type": "code",
   "execution_count": 16,
   "metadata": {
    "collapsed": true
   },
   "outputs": [],
   "source": [
    "def sigmoid(theta,X):\n",
    "    den=1.0+np.exp(-X.dot(np.transpose(theta)))\n",
    "    return 1.0/den"
   ]
  },
  {
   "cell_type": "code",
   "execution_count": 17,
   "metadata": {
    "collapsed": false
   },
   "outputs": [],
   "source": [
    "#theta=np.zeros((1,X_train.shape[1]))\n",
    "#ans=sigmoid(theta,X_train)\n",
    "def grad_func(theta,X,y):\n",
    "    term1=sigmoid(theta,X)-y\n",
    "    term2=np.transpose(term1).dot(X)\n",
    "    term2=term2/X.shape[0]\n",
    "    return term2"
   ]
  },
  {
   "cell_type": "code",
   "execution_count": 18,
   "metadata": {
    "collapsed": false
   },
   "outputs": [],
   "source": [
    "def cost_func(theta,X,y):\n",
    "    m=X.shape[0]\n",
    "    hx=sigmoid(theta,X)\n",
    "    y=np.transpose(y)\n",
    "    term1=y.dot(np.log(hx))\n",
    "    term2=(1-y).dot(np.log(1-hx))\n",
    "    res=(-1.0/m)*(term1+term2)\n",
    "    return res;"
   ]
  },
  {
   "cell_type": "code",
   "execution_count": 19,
   "metadata": {
    "collapsed": true
   },
   "outputs": [],
   "source": [
    "def gradient_descent(theta,X,y):\n",
    "    cost_iter=[]\n",
    "    alpha=0.001\n",
    "    cost=cost_func(theta,X,y)\n",
    "    gradient=grad_func(theta,X,y)\n",
    "    cost_iter.append([0,cost])\n",
    "    for i in range(0,40001):\n",
    "        theta=theta-(alpha*gradient)\n",
    "        gradient=grad_func(theta,X,y)\n",
    "        cost=cost_func(theta,X,y)\n",
    "        cost_iter.append([i,cost])\n",
    "    return theta,cost_iter"
   ]
  },
  {
   "cell_type": "code",
   "execution_count": 20,
   "metadata": {
    "collapsed": false
   },
   "outputs": [],
   "source": [
    "theta=np.zeros((1,X_train.shape[1]))\n",
    "theta_final1,cost_iter1=gradient_descent(theta,X_train,Y_train1)\n",
    "cost_iter1=np.array(cost_iter1)"
   ]
  },
  {
   "cell_type": "code",
   "execution_count": 21,
   "metadata": {
    "collapsed": false,
    "scrolled": true
   },
   "outputs": [
    {
     "data": {
      "image/png": "[encoded data removed]",
      "text/plain": [
       "<matplotlib.figure.Figure at 0x2d5a2a0d710>"
      ]
     },
     "metadata": {},
     "output_type": "display_data"
    }
   ],
   "source": [
    "plt.plot(cost_iter1[:,0], cost_iter1[:,1])\n",
    "plt.xlabel(\"Iteration\")\n",
    "plt.ylabel(\"Cost\")\n",
    "plt.show()"
   ]
  },
  {
   "cell_type": "code",
   "execution_count": 22,
   "metadata": {
    "collapsed": false
   },
   "outputs": [],
   "source": [
    "def predict(theta,X):\n",
    "    pred_prob=sigmoid(theta,X)\n",
    "    m=X.shape[0]\n",
    "    pred_val=np.where(pred_prob>=0.5,1,0)\n",
    "    return pred_val"
   ]
  },
  {
   "cell_type": "code",
   "execution_count": 26,
   "metadata": {
    "collapsed": false
   },
   "outputs": [],
   "source": [
    "theta_final2,cost_iter2=gradient_descent(theta,X_train,Y_train2)\n",
    "cost_iter2=np.array(cost_iter2)"
   ]
  },
  {
   "cell_type": "code",
   "execution_count": 162,
   "metadata": {
    "collapsed": false
   },
   "outputs": [
    {
     "data": {
      "text/plain": [
       "38"
      ]
     },
     "execution_count": 162,
     "metadata": {},
     "output_type": "execute_result"
    }
   ],
   "source": [
    "theta_final3,cost_iter3="
   ]
  },
  {
   "cell_type": "code",
   "execution_count": 163,
   "metadata": {
    "collapsed": false
   },
   "outputs": [
    {
     "data": {
      "text/plain": [
       "37"
      ]
     },
     "execution_count": 163,
     "metadata": {},
     "output_type": "execute_result"
    }
   ],
   "source": [
    "np.sum(Y_test==pred_val)"
   ]
  },
  {
   "cell_type": "markdown",
   "metadata": {
    "collapsed": true
   },
   "source": [
    "# Logistic Regression with Regularization"
   ]
  },
  {
   "cell_type": "code",
   "execution_count": 164,
   "metadata": {
    "collapsed": true
   },
   "outputs": [],
   "source": [
    "def cost_func_regularized(theta,lamda,X,y):\n",
    "    m=X.shape[0]#0 is for the horizontal axis number\n",
    "    n=X.shape[1]#1 is the number of columns\n",
    "    hx=sigmoid(theta,X)\n",
    "    #hx has dimension m*1\n",
    "    y=np.transpose(y)\n",
    "    term1=y.dot(np.log(hx))\n",
    "    term2=(1-y).dot(np.log(1-hx))\n",
    "    term3=0\n",
    "    for i in range(1,n):\n",
    "        term3=term3+(theta[0][i]*theta[0][i])\n",
    "    cost=(-1.0/m)*(term1+term2) +(lamda/(2.0*m))*term3\n",
    "    return cost"
   ]
  },
  {
   "cell_type": "code",
   "execution_count": 165,
   "metadata": {
    "collapsed": true
   },
   "outputs": [],
   "source": [
    "def gradient_calculation_regularized(theta,lamda,X,y):\n",
    "    term1=sigmoid(theta,X)-y\n",
    "    term2=np.transpose(term1).dot(X)\n",
    "    n=theta.shape[1]\n",
    "    m=X.shape[0]\n",
    "    for it in range(1,n):\n",
    "        term2[0][it]=term2[0][it]+lamda*theta[0][it]\n",
    "    term2=term2/m\n",
    "    return term2"
   ]
  },
  {
   "cell_type": "code",
   "execution_count": 166,
   "metadata": {
    "collapsed": true
   },
   "outputs": [],
   "source": [
    "def logistic_regression_regularized(theta,alpha,lamda,X,y):\n",
    "    cost_iter=[]\n",
    "    cost=cost_func_regularized(theta,lamda,X,y)\n",
    "    cost_iter.append([0,cost])\n",
    "    gradient=gradient_calculation_regularized(theta,lamda,X,y)\n",
    "    for i in range(1,40001):\n",
    "        theta=theta-alpha*gradient\n",
    "        gradient=gradient_calculation_regularized(theta,lamda,X,y)\n",
    "        cost=cost_func_regularized(theta,lamda,X,y)\n",
    "        cost_iter.append([i,cost])\n",
    "    return theta,cost_iter"
   ]
  },
  {
   "cell_type": "code",
   "execution_count": 167,
   "metadata": {
    "collapsed": false
   },
   "outputs": [],
   "source": [
    "theta_reg=np.zeros((1,X_train.shape[1]))\n",
    "theta_reg,cost_iter1=logistic_regression_regularized(theta_reg,0.001,0.003,X_train,Y_train)"
   ]
  },
  {
   "cell_type": "code",
   "execution_count": 168,
   "metadata": {
    "collapsed": false
   },
   "outputs": [
    {
     "data": {
      "image/png": "[encoded data removed]",
      "text/plain": [
       "<matplotlib.figure.Figure at 0x23d82d71908>"
      ]
     },
     "metadata": {},
     "output_type": "display_data"
    }
   ],
   "source": [
    "cost_iter1=np.array(cost_iter1)\n",
    "plt.plot(cost_iter1[:,0],cost_iter1[:,1])\n",
    "plt.xlabel(\"Iteration\")\n",
    "plt.ylabel(\"Cost\")\n",
    "plt.show()"
   ]
  },
  {
   "cell_type": "code",
   "execution_count": 169,
   "metadata": {
    "collapsed": false
   },
   "outputs": [
    {
     "data": {
      "text/plain": [
       "array([[-1.29719287,  1.2030672 ,  0.22097746,  0.70045361, -1.29721085,\n",
       "         0.5000287 ,  0.22804723,  0.80748011, -0.04021212,  0.04317049,\n",
       "         0.07069226,  0.02790358,  0.84481947,  1.55585811]])"
      ]
     },
     "execution_count": 169,
     "metadata": {},
     "output_type": "execute_result"
    }
   ],
   "source": [
    "theta_reg"
   ]
  },
  {
   "cell_type": "code",
   "execution_count": 170,
   "metadata": {
    "collapsed": true
   },
   "outputs": [],
   "source": [
    "pred_val_reg=predict(theta_reg,X_test)"
   ]
  },
  {
   "cell_type": "code",
   "execution_count": 171,
   "metadata": {
    "collapsed": false
   },
   "outputs": [
    {
     "data": {
      "text/plain": [
       "37"
      ]
     },
     "execution_count": 171,
     "metadata": {},
     "output_type": "execute_result"
    }
   ],
   "source": [
    "np.sum(Y_test==pred_val_reg)"
   ]
  },
  {
   "cell_type": "code",
   "execution_count": null,
   "metadata": {
    "collapsed": true
   },
   "outputs": [],
   "source": []
  }
 ],
 "metadata": {
  "anaconda-cloud": {},
  "kernelspec": {
   "display_name": "Python [conda root]",
   "language": "python",
   "name": "conda-root-py"
  },
  "language_info": {
   "codemirror_mode": {
    "name": "ipython",
    "version": 3
   },
   "file_extension": ".py",
   "mimetype": "text/x-python",
   "name": "python",
   "nbconvert_exporter": "python",
   "pygments_lexer": "ipython3",
   "version": "3.5.2"
  }
 },
 "nbformat": 4,
 "nbformat_minor": 1
}
